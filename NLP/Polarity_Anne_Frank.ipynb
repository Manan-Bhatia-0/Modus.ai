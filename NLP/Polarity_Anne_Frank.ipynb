{
 "cells": [
  {
   "cell_type": "markdown",
   "metadata": {},
   "source": [
    "## Polarity with Anne Frank's journal entries\n",
    "This notebook includes functions that takes in journal entries into a nlp model and returns the individual and cummulative polarities for each journal entries and each sentence in a given journal entry (temporarily indexed by date)."
   ]
  },
  {
   "cell_type": "code",
   "execution_count": 169,
   "metadata": {},
   "outputs": [],
   "source": [
    "# imports\n",
    "from bs4 import BeautifulSoup\n",
    "import urllib.request\n",
    "import re\n",
    "import json\n",
    "from textblob import TextBlob\n",
    "import nltk\n",
    "from nltk.sentiment import SentimentIntensityAnalyzer"
   ]
  },
  {
   "cell_type": "code",
   "execution_count": 170,
   "metadata": {},
   "outputs": [],
   "source": [
    "# retrieving Anne Frank data for polarity testing \n",
    "def retrieve_data_from_url(url):\n",
    "    list_8 = []\n",
    "    dict_8 = {}\n",
    "    r= urllib.request.urlopen(url).read()\n",
    "    soup = BeautifulSoup(r, 'lxml')\n",
    "\n",
    "    for points in soup.find_all('pre'):\n",
    "        point = str(points.text)\n",
    "    \n",
    "    lst = point.split(\"\\n\")\n",
    "    lst = [i for i in lst if i]\n",
    "    lst = lst[229:]\n",
    "\n",
    "    r = re.compile(\"[A-Z]+, [A-Z]+ [0-9]{2}[ ]?,[ ]?[0-9]{4}.*\")\n",
    "    filtered_list = list(filter(r.match, lst))\n",
    "    filtered_lst_index = []\n",
    "    \n",
    "    \n",
    "    diary_dict = dict.fromkeys(filtered_list)\n",
    "    for i in filtered_list:\n",
    "        filtered_lst_index.append(lst.index(i))\n",
    "        \n",
    "    dict_index = 0\n",
    "    \n",
    "    for i in range(len(filtered_lst_index) - 1):\n",
    "        beginning = filtered_lst_index[i] + 1\n",
    "        end = filtered_lst_index[i + 1]\n",
    "        entry = lst[beginning: end]\n",
    "        string = ''.join(entry)\n",
    "        diary_dict[filtered_list[dict_index]] = string\n",
    "        dict_index = dict_index + 1\n",
    "        \n",
    "    filtered = {k: v for k, v in diary_dict.items() if v is not None}\n",
    "    diary_dict.clear()\n",
    "    diary_dict.update(filtered)\n",
    "    diary_sent = diary_dict.copy()\n",
    "    for i in diary_keys:\n",
    "        diary_sent[i] = diary_sent[i].split(\".\")\n",
    "    return diary_dict, diary_sent\n",
    "\n",
    "diary_dict, diary_sent = retrieve_data_from_url('https://archive.org/stream/AnneFrankTheDiaryOfAYoungGirl_201606/Anne-Frank-The-Diary-Of-A-Young-Girl_djvu.txt')\n",
    "\n"
   ]
  },
  {
   "cell_type": "code",
   "execution_count": 171,
   "metadata": {},
   "outputs": [],
   "source": [
    "# each entry\n",
    "def entry_polarity(diary_dict):\n",
    "    diary_keys = list(diary_dict.keys())\n",
    "    return_dict = dict.fromkeys(diary_keys)\n",
    "    entry_dict = dict.fromkeys(diary_keys)\n",
    "    \n",
    "    sia = SentimentIntensityAnalyzer()\n",
    "    # polarity for each entry\n",
    "    for i in diary_keys:\n",
    "        entry = diary_dict[i]\n",
    "        temp_dict = sia.polarity_scores(entry)\n",
    "        edu = TextBlob(entry)\n",
    "        x = edu.sentiment.polarity\n",
    "        temp_dict['cummulative'] = x\n",
    "        return_dict[i] = temp_dict\n",
    "\n",
    "    return return_dict\n",
    "\n",
    "entry_polarity = entry_polarity(diary_dict)        "
   ]
  },
  {
   "cell_type": "code",
   "execution_count": 181,
   "metadata": {},
   "outputs": [],
   "source": [
    "# each sentence in an entry\n",
    "def sentence_polarity(entry):\n",
    "    sentences = diary_sent[entry]\n",
    "    return_dict = {entry: None}\n",
    "    sentence_dict = dict.fromkeys(sentences)\n",
    "    return_dict[entry] = sentence_dict\n",
    "\n",
    "    for i in sentences:\n",
    "        temp_dict = sia.polarity_scores(i)\n",
    "        edu = TextBlob(i)\n",
    "        x = edu.sentiment.polarity\n",
    "        temp_dict['cummulative'] = x\n",
    "        return_dict[entry][i] = temp_dict\n",
    "        \n",
    "    return return_dict\n",
    "    \n",
    "sentence_polarity = sentence_polarity('SATURDAY, JUNE 20,1942 ')  \n",
    "\n"
   ]
  },
  {
   "cell_type": "code",
   "execution_count": null,
   "metadata": {},
   "outputs": [],
   "source": []
  }
 ],
 "metadata": {
  "kernelspec": {
   "display_name": "Python 3",
   "language": "python",
   "name": "python3"
  },
  "language_info": {
   "codemirror_mode": {
    "name": "ipython",
    "version": 3
   },
   "file_extension": ".py",
   "mimetype": "text/x-python",
   "name": "python",
   "nbconvert_exporter": "python",
   "pygments_lexer": "ipython3",
   "version": "3.7.6"
  }
 },
 "nbformat": 4,
 "nbformat_minor": 4
}
