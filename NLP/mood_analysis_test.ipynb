{
 "cells": [
  {
   "cell_type": "code",
   "execution_count": 7,
   "metadata": {},
   "outputs": [
    {
     "name": "stderr",
     "output_type": "stream",
     "text": [
      "[nltk_data] Downloading package stopwords to\n",
      "[nltk_data]     /Users/rashmiananth/nltk_data...\n",
      "[nltk_data]   Package stopwords is already up-to-date!\n",
      "[nltk_data] Downloading package punkt to\n",
      "[nltk_data]     /Users/rashmiananth/nltk_data...\n",
      "[nltk_data]   Package punkt is already up-to-date!\n",
      "[nltk_data] Downloading package wordnet to\n",
      "[nltk_data]     /Users/rashmiananth/nltk_data...\n",
      "[nltk_data]   Package wordnet is already up-to-date!\n",
      "[nltk_data] Downloading package vader_lexicon to\n",
      "[nltk_data]     /Users/rashmiananth/nltk_data...\n",
      "[nltk_data]   Package vader_lexicon is already up-to-date!\n"
     ]
    }
   ],
   "source": [
    "import pandas as pd\n",
    "from journal_entry import JournalEntry"
   ]
  },
  {
   "cell_type": "code",
   "execution_count": 8,
   "metadata": {},
   "outputs": [],
   "source": [
    "entries = pd.read_csv('T2E experiment/entries.csv')\n",
    "entries['date'] = pd.to_datetime(entries['date'])\n",
    "entries['entry'] = entries['entry'].astype(str)"
   ]
  },
  {
   "cell_type": "code",
   "execution_count": 9,
   "metadata": {},
   "outputs": [
    {
     "data": {
      "text/html": [
       "<div>\n",
       "<style scoped>\n",
       "    .dataframe tbody tr th:only-of-type {\n",
       "        vertical-align: middle;\n",
       "    }\n",
       "\n",
       "    .dataframe tbody tr th {\n",
       "        vertical-align: top;\n",
       "    }\n",
       "\n",
       "    .dataframe thead th {\n",
       "        text-align: right;\n",
       "    }\n",
       "</style>\n",
       "<table border=\"1\" class=\"dataframe\">\n",
       "  <thead>\n",
       "    <tr style=\"text-align: right;\">\n",
       "      <th></th>\n",
       "      <th>date</th>\n",
       "      <th>entry</th>\n",
       "    </tr>\n",
       "  </thead>\n",
       "  <tbody>\n",
       "    <tr>\n",
       "      <th>0</th>\n",
       "      <td>2011-03-29</td>\n",
       "      <td>Tomorrow we are going to Florida! We are going...</td>\n",
       "    </tr>\n",
       "    <tr>\n",
       "      <th>1</th>\n",
       "      <td>2011-04-12</td>\n",
       "      <td>I can finally say that I’ve gone to NASA. We s...</td>\n",
       "    </tr>\n",
       "    <tr>\n",
       "      <th>2</th>\n",
       "      <td>2011-04-19</td>\n",
       "      <td>Today we switched desks and now I sit next to ...</td>\n",
       "    </tr>\n",
       "    <tr>\n",
       "      <th>3</th>\n",
       "      <td>2011-04-21</td>\n",
       "      <td>Today I learned long division. I got a 100% on...</td>\n",
       "    </tr>\n",
       "    <tr>\n",
       "      <th>4</th>\n",
       "      <td>2011-04-28</td>\n",
       "      <td>I don’t feel like writing today.</td>\n",
       "    </tr>\n",
       "    <tr>\n",
       "      <th>5</th>\n",
       "      <td>2011-05-10</td>\n",
       "      <td>Today I got a nosebleed. I played kickball and...</td>\n",
       "    </tr>\n",
       "    <tr>\n",
       "      <th>6</th>\n",
       "      <td>2011-08-23</td>\n",
       "      <td>I went to Toronto a few days ago. We drove thr...</td>\n",
       "    </tr>\n",
       "    <tr>\n",
       "      <th>7</th>\n",
       "      <td>2012-06-16</td>\n",
       "      <td>Yesterday, I had summer school. In creative wr...</td>\n",
       "    </tr>\n",
       "    <tr>\n",
       "      <th>8</th>\n",
       "      <td>2012-06-18</td>\n",
       "      <td>Today in writing. We wrote about who you would...</td>\n",
       "    </tr>\n",
       "    <tr>\n",
       "      <th>9</th>\n",
       "      <td>2012-07-18</td>\n",
       "      <td>My cousins left today.  I really miss them! Ye...</td>\n",
       "    </tr>\n",
       "    <tr>\n",
       "      <th>10</th>\n",
       "      <td>2012-07-19</td>\n",
       "      <td>I have great news! I started reading the seven...</td>\n",
       "    </tr>\n",
       "    <tr>\n",
       "      <th>11</th>\n",
       "      <td>2012-12-30</td>\n",
       "      <td>Yesterday was my skating recital! It was reall...</td>\n",
       "    </tr>\n",
       "  </tbody>\n",
       "</table>\n",
       "</div>"
      ],
      "text/plain": [
       "         date                                              entry\n",
       "0  2011-03-29  Tomorrow we are going to Florida! We are going...\n",
       "1  2011-04-12  I can finally say that I’ve gone to NASA. We s...\n",
       "2  2011-04-19  Today we switched desks and now I sit next to ...\n",
       "3  2011-04-21  Today I learned long division. I got a 100% on...\n",
       "4  2011-04-28                   I don’t feel like writing today.\n",
       "5  2011-05-10  Today I got a nosebleed. I played kickball and...\n",
       "6  2011-08-23  I went to Toronto a few days ago. We drove thr...\n",
       "7  2012-06-16  Yesterday, I had summer school. In creative wr...\n",
       "8  2012-06-18  Today in writing. We wrote about who you would...\n",
       "9  2012-07-18  My cousins left today.  I really miss them! Ye...\n",
       "10 2012-07-19  I have great news! I started reading the seven...\n",
       "11 2012-12-30  Yesterday was my skating recital! It was reall..."
      ]
     },
     "execution_count": 9,
     "metadata": {},
     "output_type": "execute_result"
    }
   ],
   "source": [
    "entries"
   ]
  },
  {
   "cell_type": "code",
   "execution_count": 10,
   "metadata": {},
   "outputs": [],
   "source": [
    "username = 'rashmii'\n",
    "date = entries.loc[1][0]\n",
    "title = 'Florida Trip'\n",
    "entry = entries.loc[1][1]\n",
    "status = 'submitted'\n"
   ]
  },
  {
   "cell_type": "code",
   "execution_count": 11,
   "metadata": {},
   "outputs": [],
   "source": [
    "jentry = JournalEntry(username, title, entry, date, status)"
   ]
  },
  {
   "cell_type": "code",
   "execution_count": 12,
   "metadata": {},
   "outputs": [
    {
     "data": {
      "text/plain": [
       "'I can finally say that I’ve gone to NASA. We saw moon rockets and tried astronaut ice cream! Who cares about that though?! The really cool thing I saw was Hogwarts! I saw a wand demonstration, went to the forbidden forest, drank butter beer, and got tons of candy from Honeydukes. I had so much fun on my vacation and I’m so glad that I get to bring Dorothy my pink pigmepuff back home with me!'"
      ]
     },
     "execution_count": 12,
     "metadata": {},
     "output_type": "execute_result"
    }
   ],
   "source": [
    "jentry.get_entry()"
   ]
  },
  {
   "cell_type": "code",
   "execution_count": 13,
   "metadata": {},
   "outputs": [],
   "source": [
    "jentry.t2e_set_entry_mood_analysis()"
   ]
  },
  {
   "cell_type": "code",
   "execution_count": 14,
   "metadata": {},
   "outputs": [
    {
     "data": {
      "text/plain": [
       "{'Happy': 0.21, 'Angry': 0.0, 'Surprise': 0.21, 'Sad': 0.29, 'Fear': 0.29}"
      ]
     },
     "execution_count": 14,
     "metadata": {},
     "output_type": "execute_result"
    }
   ],
   "source": [
    "jentry.t2e_get_entry_mood_analysis()"
   ]
  },
  {
   "cell_type": "code",
   "execution_count": 15,
   "metadata": {},
   "outputs": [],
   "source": [
    "jentry.t2e_set_sent_mood_analysis()"
   ]
  },
  {
   "cell_type": "code",
   "execution_count": 16,
   "metadata": {},
   "outputs": [
    {
     "data": {
      "text/plain": [
       "[{'Happy': 0.0, 'Angry': 0.0, 'Surprise': 0.33, 'Sad': 0.0, 'Fear': 0.67},\n",
       " {'Happy': 0, 'Angry': 0, 'Surprise': 0, 'Sad': 0, 'Fear': 0},\n",
       " {'Happy': 0.0, 'Angry': 0.0, 'Surprise': 0.0, 'Sad': 1.0, 'Fear': 0.0},\n",
       " {'Happy': 0.33, 'Angry': 0.0, 'Surprise': 0.67, 'Sad': 0.0, 'Fear': 0.0},\n",
       " {'Happy': 0.0, 'Angry': 0.0, 'Surprise': 0.0, 'Sad': 0.0, 'Fear': 1.0},\n",
       " {'Happy': 0.5, 'Angry': 0.0, 'Surprise': 0.0, 'Sad': 0.5, 'Fear': 0.0}]"
      ]
     },
     "execution_count": 16,
     "metadata": {},
     "output_type": "execute_result"
    }
   ],
   "source": [
    "jentry.t2e_get_sent_mood_analysis()"
   ]
  },
  {
   "cell_type": "code",
   "execution_count": 17,
   "metadata": {},
   "outputs": [],
   "source": [
    "jentry.polarity_set_entry_mood_analysis()"
   ]
  },
  {
   "cell_type": "code",
   "execution_count": 18,
   "metadata": {},
   "outputs": [
    {
     "data": {
      "text/plain": [
       "{'neg': 0.034,\n",
       " 'neu': 0.777,\n",
       " 'pos': 0.189,\n",
       " 'compound': 0.9154,\n",
       " 'cummulative': 0.18958333333333333}"
      ]
     },
     "execution_count": 18,
     "metadata": {},
     "output_type": "execute_result"
    }
   ],
   "source": [
    "jentry.polarity_get_entry_mood_analysis()"
   ]
  },
  {
   "cell_type": "code",
   "execution_count": 19,
   "metadata": {},
   "outputs": [],
   "source": [
    "jentry.polarity_set_sent_mood_analysis()"
   ]
  },
  {
   "cell_type": "code",
   "execution_count": 20,
   "metadata": {},
   "outputs": [
    {
     "data": {
      "text/plain": [
       "[{'neg': 0.0, 'neu': 1.0, 'pos': 0.0, 'compound': 0.0, 'cummulative': 0.0},\n",
       " {'neg': 0.0, 'neu': 1.0, 'pos': 0.0, 'compound': 0.0, 'cummulative': 0.0},\n",
       " {'neg': 0.0,\n",
       "  'neu': 0.549,\n",
       "  'pos': 0.451,\n",
       "  'compound': 0.5093,\n",
       "  'cummulative': 0.0},\n",
       " {'neg': 0.0,\n",
       "  'neu': 0.675,\n",
       "  'pos': 0.325,\n",
       "  'compound': 0.4376,\n",
       "  'cummulative': 0.4375},\n",
       " {'neg': 0.139,\n",
       "  'neu': 0.792,\n",
       "  'pos': 0.069,\n",
       "  'compound': -0.34,\n",
       "  'cummulative': 0.0},\n",
       " {'neg': 0.0,\n",
       "  'neu': 0.731,\n",
       "  'pos': 0.269,\n",
       "  'compound': 0.8288,\n",
       "  'cummulative': 0.17500000000000002}]"
      ]
     },
     "execution_count": 20,
     "metadata": {},
     "output_type": "execute_result"
    }
   ],
   "source": [
    "jentry.polarity_get_sent_mood_analysis()"
   ]
  },
  {
   "cell_type": "code",
   "execution_count": null,
   "metadata": {},
   "outputs": [],
   "source": []
  }
 ],
 "metadata": {
  "kernelspec": {
   "display_name": "Python 3",
   "language": "python",
   "name": "python3"
  },
  "language_info": {
   "codemirror_mode": {
    "name": "ipython",
    "version": 3
   },
   "file_extension": ".py",
   "mimetype": "text/x-python",
   "name": "python",
   "nbconvert_exporter": "python",
   "pygments_lexer": "ipython3",
   "version": "3.7.6"
  }
 },
 "nbformat": 4,
 "nbformat_minor": 5
}
