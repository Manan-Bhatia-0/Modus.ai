{
 "cells": [
  {
   "cell_type": "code",
   "execution_count": 16,
   "id": "3652ffa5",
   "metadata": {},
   "outputs": [
    {
     "name": "stdout",
     "output_type": "stream",
     "text": [
      "Requirement already satisfied: flask in /Users/mihira/opt/anaconda3/lib/python3.8/site-packages (1.1.2)\n",
      "Requirement already satisfied: Jinja2>=2.10.1 in /Users/mihira/opt/anaconda3/lib/python3.8/site-packages (from flask) (2.11.3)\n",
      "Requirement already satisfied: click>=5.1 in /Users/mihira/opt/anaconda3/lib/python3.8/site-packages (from flask) (7.1.2)\n",
      "Requirement already satisfied: Werkzeug>=0.15 in /Users/mihira/opt/anaconda3/lib/python3.8/site-packages (from flask) (1.0.1)\n",
      "Requirement already satisfied: itsdangerous>=0.24 in /Users/mihira/opt/anaconda3/lib/python3.8/site-packages (from flask) (1.1.0)\n",
      "Requirement already satisfied: MarkupSafe>=0.23 in /Users/mihira/opt/anaconda3/lib/python3.8/site-packages (from Jinja2>=2.10.1->flask) (1.1.1)\n",
      "\u001b[33mWARNING: You are using pip version 21.2.3; however, version 21.3.1 is available.\n",
      "You should consider upgrading via the '/Users/mihira/opt/anaconda3/bin/python -m pip install --upgrade pip' command.\u001b[0m\n",
      "Collecting flask_restful\n",
      "  Downloading Flask_RESTful-0.3.9-py2.py3-none-any.whl (25 kB)\n",
      "Requirement already satisfied: pytz in /Users/mihira/opt/anaconda3/lib/python3.8/site-packages (from flask_restful) (2021.1)\n",
      "Requirement already satisfied: Flask>=0.8 in /Users/mihira/opt/anaconda3/lib/python3.8/site-packages (from flask_restful) (1.1.2)\n",
      "Collecting aniso8601>=0.82\n",
      "  Downloading aniso8601-9.0.1-py2.py3-none-any.whl (52 kB)\n",
      "\u001b[K     |████████████████████████████████| 52 kB 3.2 MB/s eta 0:00:011\n",
      "\u001b[?25hRequirement already satisfied: six>=1.3.0 in /Users/mihira/opt/anaconda3/lib/python3.8/site-packages (from flask_restful) (1.15.0)\n",
      "Requirement already satisfied: itsdangerous>=0.24 in /Users/mihira/opt/anaconda3/lib/python3.8/site-packages (from Flask>=0.8->flask_restful) (1.1.0)\n",
      "Requirement already satisfied: Jinja2>=2.10.1 in /Users/mihira/opt/anaconda3/lib/python3.8/site-packages (from Flask>=0.8->flask_restful) (2.11.3)\n",
      "Requirement already satisfied: click>=5.1 in /Users/mihira/opt/anaconda3/lib/python3.8/site-packages (from Flask>=0.8->flask_restful) (7.1.2)\n",
      "Requirement already satisfied: Werkzeug>=0.15 in /Users/mihira/opt/anaconda3/lib/python3.8/site-packages (from Flask>=0.8->flask_restful) (1.0.1)\n",
      "Requirement already satisfied: MarkupSafe>=0.23 in /Users/mihira/opt/anaconda3/lib/python3.8/site-packages (from Jinja2>=2.10.1->Flask>=0.8->flask_restful) (1.1.1)\n",
      "Installing collected packages: aniso8601, flask-restful\n",
      "Successfully installed aniso8601-9.0.1 flask-restful-0.3.9\n",
      "\u001b[33mWARNING: You are using pip version 21.2.3; however, version 21.3.1 is available.\n",
      "You should consider upgrading via the '/Users/mihira/opt/anaconda3/bin/python -m pip install --upgrade pip' command.\u001b[0m\n"
     ]
    }
   ],
   "source": [
    "!pip install flask\n",
    "!pip install flask_restful"
   ]
  },
  {
   "cell_type": "code",
   "execution_count": 17,
   "id": "7aeb45f6",
   "metadata": {},
   "outputs": [
    {
     "name": "stderr",
     "output_type": "stream",
     "text": [
      "[nltk_data] Downloading package vader_lexicon to\n",
      "[nltk_data]     /Users/mihira/nltk_data...\n",
      "[nltk_data]   Package vader_lexicon is already up-to-date!\n"
     ]
    }
   ],
   "source": [
    "import text2emotion as te\n",
    "import nltk\n",
    "import pandas as pd\n",
    "from nltk.tokenize import sent_tokenize\n",
    "import string\n",
    "from textblob import TextBlob\n",
    "from nltk.sentiment import SentimentIntensityAnalyzer\n",
    "nltk.download('vader_lexicon')\n",
    "from flask import Flask\n",
    "from flask_restful import Resource, Api, reqparse\n",
    "import ast"
   ]
  },
  {
   "cell_type": "code",
   "execution_count": 19,
   "id": "57af1016",
   "metadata": {},
   "outputs": [],
   "source": [
    "app = Flask(__name__)\n",
    "api = Api(app)"
   ]
  },
  {
   "cell_type": "code",
   "execution_count": 20,
   "id": "34394750",
   "metadata": {},
   "outputs": [],
   "source": [
    "class MoodAnalysis(Resource):\n",
    "    @staticmethod\n",
    "    def t2e_entry_analysis(text):\n",
    "        mood = te.get_emotion(text)\n",
    "        return mood\n",
    "    \n",
    "    @staticmethod\n",
    "    def t2e_sent_analysis(text):\n",
    "        sent_tokenized = {}\n",
    "        sent_tokenized = nltk.tokenize.sent_tokenize(text)\n",
    "        mood_list = []\n",
    "        for sentence in sent_tokenized:\n",
    "            mood = te.get_emotion(sentence)\n",
    "            mood_list.append(mood)\n",
    "        return mood_list\n",
    "    \n",
    "    @staticmethod\n",
    "    def polarity_entry_analysis(text):\n",
    "        sia = SentimentIntensityAnalyzer()\n",
    "        mood = sia.polarity_scores(text)\n",
    "        mood['cummulative'] = TextBlob(text).sentiment.polarity\n",
    "        return mood\n",
    "    \n",
    "    @staticmethod\n",
    "    def polarity_sent_analysis(text):\n",
    "        sia = SentimentIntensityAnalyzer()\n",
    "        sent_tokenized = {}\n",
    "        sent_tokenized = nltk.tokenize.sent_tokenize(text)\n",
    "        mood_list = []\n",
    "        for sentence in sent_tokenized:\n",
    "            mood = sia.polarity_scores(sentence)\n",
    "            mood['cummulative'] = TextBlob(sentence).sentiment.polarity\n",
    "            mood_list.append(mood)\n",
    "        return mood_list\n",
    "    \n",
    "    def post(self):\n",
    "        parser = reqparse.RequestParser()  # initialize\n",
    "        \n",
    "        parser.add_argument('text', required=True)  # add args\n",
    "        \n",
    "        args = parser.parse_args()  # parse arguments to dictionary\n",
    "        \n",
    "        text = args['text']\n",
    "        \n",
    "        mood_analysis_dict = {'t2e_entry_analysis': {}, 't2e_sent_analysis':{}, 'polarity_entry_analysis':{}, 'polarity_sent_analysis':{}}\n",
    "        \n",
    "        mood_analysis_dict['t2e_entry_analysis'] = MoodAnalysis.t2e_entry_analysis(text)\n",
    "        \n",
    "        mood_analysis_dict['t2e_sent_analysis'] = MoodAnalysis.t2e_sent_analysis(text)\n",
    "        \n",
    "        mood_analysis_dict['polarity_entry_analysis'] = MoodAnalysis.polarity_entry_analysis(text)\n",
    "        \n",
    "        mood_analysis_dict['polarity_sent_analysis'] = MoodAnalysis.polarity_sent_analysis(text)\n",
    "        \n",
    "        return {'data': mood_analysis_dict}, 200\n",
    "\n",
    "api.add_resource(MoodAnalysis, '/moodanalysis') "
   ]
  },
  {
   "cell_type": "code",
   "execution_count": null,
   "id": "6af141de",
   "metadata": {},
   "outputs": [
    {
     "name": "stdout",
     "output_type": "stream",
     "text": [
      " * Serving Flask app \"__main__\" (lazy loading)\n",
      " * Environment: production\n",
      "\u001b[31m   WARNING: This is a development server. Do not use it in a production deployment.\u001b[0m\n",
      "\u001b[2m   Use a production WSGI server instead.\u001b[0m\n",
      " * Debug mode: off\n"
     ]
    },
    {
     "name": "stderr",
     "output_type": "stream",
     "text": [
      " * Running on http://127.0.0.1:5000/ (Press CTRL+C to quit)\n",
      "127.0.0.1 - - [03/Nov/2021 17:07:54] \"\u001b[33mGET / HTTP/1.1\u001b[0m\" 404 -\n",
      "127.0.0.1 - - [03/Nov/2021 17:07:54] \"\u001b[33mGET /favicon.ico HTTP/1.1\u001b[0m\" 404 -\n"
     ]
    }
   ],
   "source": [
    "if __name__ == '__main__':\n",
    "    app.run()  # run our Flask app"
   ]
  },
  {
   "cell_type": "code",
   "execution_count": null,
   "id": "aa5bfc67",
   "metadata": {},
   "outputs": [],
   "source": []
  }
 ],
 "metadata": {
  "kernelspec": {
   "display_name": "Python 3",
   "language": "python",
   "name": "python3"
  },
  "language_info": {
   "codemirror_mode": {
    "name": "ipython",
    "version": 3
   },
   "file_extension": ".py",
   "mimetype": "text/x-python",
   "name": "python",
   "nbconvert_exporter": "python",
   "pygments_lexer": "ipython3",
   "version": "3.8.8"
  }
 },
 "nbformat": 4,
 "nbformat_minor": 5
}
