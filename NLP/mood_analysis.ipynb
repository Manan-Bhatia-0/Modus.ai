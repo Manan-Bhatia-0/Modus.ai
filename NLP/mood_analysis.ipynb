{
 "cells": [
  {
   "cell_type": "code",
   "execution_count": 21,
   "id": "8c8c4663",
   "metadata": {},
   "outputs": [
    {
     "name": "stderr",
     "output_type": "stream",
     "text": [
      "[nltk_data] Downloading package vader_lexicon to\n",
      "[nltk_data]     /Users/mihira/nltk_data...\n"
     ]
    },
    {
     "data": {
      "text/plain": [
       "True"
      ]
     },
     "execution_count": 21,
     "metadata": {},
     "output_type": "execute_result"
    }
   ],
   "source": [
    "import text2emotion as te\n",
    "import nltk\n",
    "import pandas as pd\n",
    "from nltk.tokenize import sent_tokenize\n",
    "import string\n",
    "from textblob import TextBlob\n",
    "from nltk.sentiment import SentimentIntensityAnalyzer\n",
    "nltk.download('vader_lexicon')"
   ]
  },
  {
   "cell_type": "code",
   "execution_count": 22,
   "id": "2000d847",
   "metadata": {},
   "outputs": [],
   "source": [
    "class MoodAnalysis:\n",
    "    \n",
    "    @staticmethod\n",
    "    def t2e_entry_analysis(entry):\n",
    "        mood = te.get_emotion(entry)\n",
    "        return mood\n",
    "    \n",
    "    @staticmethod\n",
    "    def t2e_sent_analysis(entry):\n",
    "        sent_tokenized = {}\n",
    "        sent_tokenized = nltk.tokenize.sent_tokenize(entry)\n",
    "        mood_list = []\n",
    "        for sentence in sent_tokenized:\n",
    "            mood = te.get_emotion(sentence)\n",
    "            mood_list.append(mood)\n",
    "        return mood_list\n",
    "    \n",
    "    @staticmethod\n",
    "    def polarity_entry_analysis(entry):\n",
    "        sia = SentimentIntensityAnalyzer()\n",
    "        mood = sia.polarity_scores(entry)\n",
    "        mood['cummulative'] = TextBlob(entry).sentiment.polarity\n",
    "        return mood\n",
    "    \n",
    "    @staticmethod\n",
    "    def polarity_sent_analysis(entry):\n",
    "        sia = SentimentIntensityAnalyzer()\n",
    "        sent_tokenized = {}\n",
    "        sent_tokenized = nltk.tokenize.sent_tokenize(entry)\n",
    "        mood_list = []\n",
    "        for sentence in sent_tokenized:\n",
    "            mood = sia.polarity_scores(sentence)\n",
    "            mood['cummulative'] = TextBlob(sentence).sentiment.polarity\n",
    "            mood_list.append(mood)\n",
    "        return mood_list"
   ]
  },
  {
   "cell_type": "code",
   "execution_count": null,
   "id": "c8eec4d8",
   "metadata": {},
   "outputs": [],
   "source": []
  }
 ],
 "metadata": {
  "kernelspec": {
   "display_name": "Python 3",
   "language": "python",
   "name": "python3"
  },
  "language_info": {
   "codemirror_mode": {
    "name": "ipython",
    "version": 3
   },
   "file_extension": ".py",
   "mimetype": "text/x-python",
   "name": "python",
   "nbconvert_exporter": "python",
   "pygments_lexer": "ipython3",
   "version": "3.8.8"
  }
 },
 "nbformat": 4,
 "nbformat_minor": 5
}
