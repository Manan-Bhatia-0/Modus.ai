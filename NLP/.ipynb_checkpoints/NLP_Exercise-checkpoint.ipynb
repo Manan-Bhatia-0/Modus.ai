{
 "cells": [
  {
   "cell_type": "code",
   "execution_count": 1,
   "metadata": {},
   "outputs": [],
   "source": [
    "import os\n",
    "import numpy as np\n",
    "import random\n",
    "from sklearn.model_selection import train_test_split\n",
    "from sklearn.feature_extraction.text import CountVectorizer, TfidfVectorizer\n",
    "from sklearn.metrics import f1_score\n",
    "\n",
    "import json"
   ]
  },
  {
   "cell_type": "markdown",
   "metadata": {},
   "source": [
    "### Load In Data"
   ]
  },
  {
   "cell_type": "markdown",
   "metadata": {},
   "source": [
    "#### Data Class"
   ]
  },
  {
   "cell_type": "code",
   "execution_count": 2,
   "metadata": {},
   "outputs": [],
   "source": [
    "class Review:\n",
    "    def __init__(self, category, text):\n",
    "        self.category = category\n",
    "        self.text = text    \n",
    "        \n",
    "class ReviewContainer:\n",
    "    def __init__(self, reviews):\n",
    "        self.reviews = reviews\n",
    "    \n",
    "    def get_text(self):\n",
    "        return [x.text for x in self.reviews]\n",
    "    \n",
    "    def get_y(self):\n",
    "        return [x.category for x in self.reviews]"
   ]
  },
  {
   "cell_type": "markdown",
   "metadata": {},
   "source": [
    "#### Prep Training/Test Data"
   ]
  },
  {
   "cell_type": "code",
   "execution_count": 3,
   "metadata": {},
   "outputs": [],
   "source": [
    "train_reviews = []\n",
    "all_categories = []\n",
    "for file in os.listdir('./data/training'):\n",
    "    category = file.strip('train_').split('.')[0]\n",
    "    all_categories.append(category)\n",
    "    with open(f'./data/training/{file}') as f:\n",
    "        for line in f:\n",
    "            review_json = json.loads(line)\n",
    "            review = Review(category, review_json['reviewText'])\n",
    "            train_reviews.append(review)\n",
    "\n",
    "train_container = ReviewContainer(train_reviews)"
   ]
  },
  {
   "cell_type": "code",
   "execution_count": 4,
   "metadata": {},
   "outputs": [],
   "source": [
    "test_reviews = []\n",
    "for file in os.listdir('./data/test'):\n",
    "    category = file.strip('test_').split('.')[0]\n",
    "    with open(f'./data/test/{file}') as f:\n",
    "        for line in f:\n",
    "            review_json = json.loads(line)\n",
    "            review = Review(category, review_json['reviewText'])\n",
    "            test_reviews.append(review)\n",
    "            \n",
    "test_container = ReviewContainer(test_reviews)"
   ]
  },
  {
   "cell_type": "markdown",
   "metadata": {},
   "source": [
    "#### Train Model (Bag of words)"
   ]
  },
  {
   "cell_type": "code",
   "execution_count": 5,
   "metadata": {},
   "outputs": [
    {
     "data": {
      "text/plain": [
       "SVC(C=1.0, break_ties=False, cache_size=200, class_weight=None, coef0=0.0,\n",
       "    decision_function_shape='ovr', degree=3, gamma='scale', kernel='linear',\n",
       "    max_iter=-1, probability=False, random_state=None, shrinking=True,\n",
       "    tol=0.001, verbose=False)"
      ]
     },
     "execution_count": 5,
     "metadata": {},
     "output_type": "execute_result"
    }
   ],
   "source": [
    "from sklearn import svm\n",
    "\n",
    "corpus = train_container.get_text()\n",
    "vectorizer = CountVectorizer(binary=True)\n",
    "train_x = vectorizer.fit_transform(corpus) # training text converted to vector\n",
    "\n",
    "clf = svm.SVC(kernel='linear')\n",
    "clf.fit(train_x, train_container.get_y())"
   ]
  },
  {
   "cell_type": "markdown",
   "metadata": {},
   "source": [
    "#### Evaluate Performance (Bag of words)"
   ]
  },
  {
   "cell_type": "code",
   "execution_count": 6,
   "metadata": {},
   "outputs": [],
   "source": [
    "# make sure to convert test text to vector form\n",
    "test_corpus = test_container.get_text()\n",
    "test_x = vectorizer.transform(test_corpus)"
   ]
  },
  {
   "cell_type": "code",
   "execution_count": 7,
   "metadata": {},
   "outputs": [
    {
     "name": "stdout",
     "output_type": "stream",
     "text": [
      "Overall Accuracy: 0.6522222222222223\n",
      "f1 scores by category\n",
      "['Electronics', 'Automotive', 'Digital_Music', 'Patio_Lawn_Garden', 'Grocery', 'Beauty', 'Pet_Supplies', 'Clothing', 'Books']\n",
      "[0.5484222  0.46201074 0.71557971 0.46501129 0.70614035 0.79538905\n",
      " 0.66816143 0.71020408 0.82866044]\n"
     ]
    }
   ],
   "source": [
    "print(\"Overall Accuracy:\", clf.score(test_x, test_container.get_y()))\n",
    "\n",
    "y_pred = clf.predict(test_x)\n",
    "\n",
    "print(\"f1 scores by category\")\n",
    "print(all_categories)\n",
    "print(f1_score(test_container.get_y(), y_pred, average=None, labels=all_categories))"
   ]
  },
  {
   "cell_type": "code",
   "execution_count": null,
   "metadata": {},
   "outputs": [],
   "source": []
  },
  {
   "cell_type": "code",
   "execution_count": null,
   "metadata": {},
   "outputs": [],
   "source": []
  },
  {
   "cell_type": "code",
   "execution_count": null,
   "metadata": {},
   "outputs": [],
   "source": []
  },
  {
   "cell_type": "code",
   "execution_count": null,
   "metadata": {},
   "outputs": [],
   "source": []
  }
 ],
 "metadata": {
  "kernelspec": {
   "display_name": "Python 3",
   "language": "python",
   "name": "python3"
  },
  "language_info": {
   "codemirror_mode": {
    "name": "ipython",
    "version": 3
   },
   "file_extension": ".py",
   "mimetype": "text/x-python",
   "name": "python",
   "nbconvert_exporter": "python",
   "pygments_lexer": "ipython3",
   "version": "3.7.6"
  }
 },
 "nbformat": 4,
 "nbformat_minor": 2
}
