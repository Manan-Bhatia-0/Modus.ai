{
 "cells": [
  {
   "cell_type": "code",
   "execution_count": null,
   "id": "d0348507",
   "metadata": {},
   "outputs": [],
   "source": [
    "from journal_entry import JournalEntry"
   ]
  },
  {
   "cell_type": "code",
   "execution_count": 1,
   "id": "00440a71",
   "metadata": {},
   "outputs": [
    {
     "ename": "SyntaxError",
     "evalue": "unexpected EOF while parsing (<ipython-input-1-3b309d5f6d25>, line 11)",
     "output_type": "error",
     "traceback": [
      "\u001b[0;36m  File \u001b[0;32m\"<ipython-input-1-3b309d5f6d25>\"\u001b[0;36m, line \u001b[0;32m11\u001b[0m\n\u001b[0;31m    \u001b[0m\n\u001b[0m    ^\u001b[0m\n\u001b[0;31mSyntaxError\u001b[0m\u001b[0;31m:\u001b[0m unexpected EOF while parsing\n"
     ]
    }
   ],
   "source": [
    "class Journal:\n",
    "    def __init__(self):\n",
    "        self.journal = []\n",
    "    \n",
    "    def add_entry(journal_entry):\n",
    "        self.journal.append(journal_entry)\n",
    "\n",
    "    def remove_entry(journal_entry):\n",
    "        self.journal.remove(journal_entry)\n",
    "    \n",
    "    def delete_journal():\n",
    "        self.journal = []\n",
    "        \n",
    "    #def journal_mood_analysis():\n",
    "        "
   ]
  },
  {
   "cell_type": "code",
   "execution_count": null,
   "id": "b8f62f31",
   "metadata": {},
   "outputs": [],
   "source": []
  },
  {
   "cell_type": "code",
   "execution_count": null,
   "id": "ba5e375e",
   "metadata": {},
   "outputs": [],
   "source": []
  }
 ],
 "metadata": {
  "kernelspec": {
   "display_name": "Python 3",
   "language": "python",
   "name": "python3"
  },
  "language_info": {
   "codemirror_mode": {
    "name": "ipython",
    "version": 3
   },
   "file_extension": ".py",
   "mimetype": "text/x-python",
   "name": "python",
   "nbconvert_exporter": "python",
   "pygments_lexer": "ipython3",
   "version": "3.8.8"
  }
 },
 "nbformat": 4,
 "nbformat_minor": 5
}
