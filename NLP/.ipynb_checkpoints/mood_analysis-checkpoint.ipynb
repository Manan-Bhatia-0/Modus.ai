{
 "cells": [
  {
   "cell_type": "code",
   "execution_count": null,
   "id": "8c8c4663",
   "metadata": {},
   "outputs": [],
   "source": [
    "import text2emotion as te\n",
    "import nltk\n",
    "import pandas as pd\n",
    "from nltk.tokenize import sent_tokenize\n",
    "import string\n",
    "from textblob import TextBlob\n",
    "from nltk.sentiment import SentimentIntensityAnalyzer"
   ]
  },
  {
   "cell_type": "code",
   "execution_count": null,
   "id": "2000d847",
   "metadata": {},
   "outputs": [],
   "source": [
    "class MoodAnalysis:\n",
    "    \n",
    "     def __init__(self, journal_entry):\n",
    "        self.journal_entry = journal_entry\n",
    "        self.t2e_entry_mood = {}\n",
    "        self.t2e_sent_mood_list = []\n",
    "        self.nltk_entry_mood = {}\n",
    "        self.nltk_sent_mood_list = []\n",
    "        \n",
    "    def t2e_entry_analysis:\n",
    "        self.t2e_entry_mood = te.get_emotion(journal_entry.entry)\n",
    "    \n",
    "    def t2e_sent_analysis:\n",
    "        sent_tokenized = {}\n",
    "        sent_tokenized = nltk.tokenize.sent_tokenize(journal_entry.entry)\n",
    "        for sentence in sent_tokenized:\n",
    "            mood = te.get_emotion(sentence)\n",
    "            self.t2e_sent_mood_list.append(mood)\n",
    "    \n",
    "    def nltk_entry_analysis:\n",
    "        sia = SentimentIntensityAnalyzer()\n",
    "        nltk_entry_mood = sia.polarity_scores(journal_entry.entry)\n",
    "\n",
    "    def nltk_sent_analysis:\n",
    "        sia = SentimentIntensityAnalyzer()\n",
    "        sent_tokenized = {}\n",
    "        sent_tokenized = nltk.tokenize.sent_tokenize(journal_entry.entry)\n",
    "        for sentence in sent_tokenized:\n",
    "            mood = sia.polarity_scores(sentence)\n",
    "            self.nltk_sent_mood_list.append(mood)\n",
    "    "
   ]
  }
 ],
 "metadata": {
  "kernelspec": {
   "display_name": "Python 3",
   "language": "python",
   "name": "python3"
  },
  "language_info": {
   "codemirror_mode": {
    "name": "ipython",
    "version": 3
   },
   "file_extension": ".py",
   "mimetype": "text/x-python",
   "name": "python",
   "nbconvert_exporter": "python",
   "pygments_lexer": "ipython3",
   "version": "3.8.8"
  }
 },
 "nbformat": 4,
 "nbformat_minor": 5
}
