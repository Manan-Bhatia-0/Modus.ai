{
 "cells": [
  {
   "cell_type": "code",
   "execution_count": 1,
   "id": "a405f807",
   "metadata": {},
   "outputs": [
    {
     "name": "stderr",
     "output_type": "stream",
     "text": [
      "[nltk_data] Downloading package stopwords to\n",
      "[nltk_data]     /Users/mihira/nltk_data...\n",
      "[nltk_data]   Package stopwords is already up-to-date!\n",
      "[nltk_data] Downloading package punkt to /Users/mihira/nltk_data...\n",
      "[nltk_data]   Package punkt is already up-to-date!\n",
      "[nltk_data] Downloading package wordnet to /Users/mihira/nltk_data...\n",
      "[nltk_data]   Package wordnet is already up-to-date!\n",
      "[nltk_data] Downloading package vader_lexicon to\n",
      "[nltk_data]     /Users/mihira/nltk_data...\n",
      "[nltk_data]   Package vader_lexicon is already up-to-date!\n"
     ]
    }
   ],
   "source": [
    "from mood_analysis import MoodAnalysis"
   ]
  },
  {
   "cell_type": "code",
   "execution_count": 2,
   "id": "3b8a8af9",
   "metadata": {},
   "outputs": [],
   "source": [
    "class JournalEntry:\n",
    "    \n",
    "    def __init__(self, username, title, entry, date_created, status):\n",
    "        self.username = username\n",
    "        #self.jid = '' (add as init param)\n",
    "        self.title = title\n",
    "        self.entry = entry\n",
    "        self.date_created = date_created\n",
    "        self.status = status\n",
    "        self.t2e_entry_mood_analysis = {}\n",
    "        self.t2e_sent_mood_analysis = []\n",
    "        self.polarity_entry_mood_analysis = {}\n",
    "        self.polarity_sent_mood_analysis = []\n",
    "    \n",
    "    def set_username(self, new_username):\n",
    "        self.username = new_username\n",
    "        \n",
    "    def get_username(self):\n",
    "        return self.username\n",
    "        \n",
    "    #def set_jid(self): (in progress)\n",
    "        \n",
    "    \n",
    "    #def get_jid(self): (in progress)\n",
    "        \n",
    "    \n",
    "    def set_title(self, new_title):\n",
    "        self.title = new_title\n",
    "        \n",
    "    def get_title(self):\n",
    "        return self.title\n",
    "    \n",
    "    def set_entry(self, new_entry):\n",
    "        self.entry = new_entry\n",
    "        \n",
    "    def get_entry(self):\n",
    "        return self.entry\n",
    "        \n",
    "    def get_date_created(self):\n",
    "        return self.date_created\n",
    "        \n",
    "    def t2e_set_entry_mood_analysis(self):\n",
    "        self.t2e_entry_mood_analysis = MoodAnalysis.t2e_entry_analysis(self.entry)\n",
    "    \n",
    "    def t2e_get_entry_mood_analysis(self):\n",
    "        return self.t2e_entry_mood_analysis\n",
    "        \n",
    "    def t2e_set_sent_mood_analysis(self):\n",
    "        self.t2e_sent_mood_analysis = MoodAnalysis.t2e_sent_analysis(self.entry)\n",
    "    \n",
    "    def t2e_get_sent_mood_analysis(self):\n",
    "        return self.t2e_sent_mood_analysis\n",
    "    \n",
    "    def polarity_set_entry_mood_analysis(self):\n",
    "        self.polarity_entry_mood_analysis = MoodAnalysis.polarity_entry_analysis(self.entry)\n",
    "        \n",
    "    def polarity_get_entry_mood_analysis(self):\n",
    "        return self.polarity_entry_mood_analysis\n",
    "    \n",
    "    def polarity_set_sent_mood_analysis(self):\n",
    "        self.polarity_sent_mood_analysis = MoodAnalysis.polarity_sent_analysis(self.entry)\n",
    "        \n",
    "    def polarity_get_sent_mood_analysis(self):    \n",
    "        return self.polarity_sent_mood_analysis"
   ]
  },
  {
   "cell_type": "code",
   "execution_count": null,
   "id": "d31d6fe7",
   "metadata": {},
   "outputs": [],
   "source": []
  }
 ],
 "metadata": {
  "kernelspec": {
   "display_name": "Python 3",
   "language": "python",
   "name": "python3"
  },
  "language_info": {
   "codemirror_mode": {
    "name": "ipython",
    "version": 3
   },
   "file_extension": ".py",
   "mimetype": "text/x-python",
   "name": "python",
   "nbconvert_exporter": "python",
   "pygments_lexer": "ipython3",
   "version": "3.8.8"
  }
 },
 "nbformat": 4,
 "nbformat_minor": 5
}
