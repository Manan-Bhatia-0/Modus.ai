{
 "cells": [
  {
   "cell_type": "markdown",
   "metadata": {},
   "source": [
    "# Sentiment Analysis Exploration\n",
    "\n",
    "This notebook covers the basics of sentiment analysis, including NLTK polarity, TextBlob polarity, and progress on NLTK model. This notebook is still in progress. \n"
   ]
  },
  {
   "cell_type": "code",
   "execution_count": 98,
   "metadata": {},
   "outputs": [],
   "source": [
    "from ipynb.fs.full.data_cleaning import *"
   ]
  },
  {
   "cell_type": "code",
   "execution_count": 99,
   "metadata": {},
   "outputs": [],
   "source": [
    "stopwords = get_stop_words()\n",
    "cleaned_lst, cleaned_string = retrieve_data_from_url('https://www.cnn.com/2021/10/03/investing/stocks-week-ahead/index.html', stopwords)\n"
   ]
  },
  {
   "cell_type": "code",
   "execution_count": 100,
   "metadata": {},
   "outputs": [
    {
     "data": {
      "text/plain": [
       "['allison',\n",
       " 'morrow',\n",
       " 'cnn',\n",
       " 'business',\n",
       " 'updated',\n",
       " '2',\n",
       " '32',\n",
       " 'pm',\n",
       " 'et',\n",
       " 'sun']"
      ]
     },
     "execution_count": 100,
     "metadata": {},
     "output_type": "execute_result"
    }
   ],
   "source": [
    "cleaned_lst[:10]"
   ]
  },
  {
   "cell_type": "code",
   "execution_count": 101,
   "metadata": {},
   "outputs": [
    {
     "data": {
      "text/plain": [
       "{'neg': 0.058, 'neu': 0.804, 'pos': 0.138, 'compound': 0.5574}"
      ]
     },
     "execution_count": 101,
     "metadata": {},
     "output_type": "execute_result"
    }
   ],
   "source": [
    "# source: https://realpython.com/python-nltk-sentiment-analysis/\n",
    "from nltk.sentiment import SentimentIntensityAnalyzer\n",
    "sia = SentimentIntensityAnalyzer()\n",
    "sia.polarity_scores(cleaned_string)"
   ]
  },
  {
   "cell_type": "code",
   "execution_count": 102,
   "metadata": {},
   "outputs": [
    {
     "name": "stdout",
     "output_type": "stream",
     "text": [
      "-0.02840909090909091\n"
     ]
    }
   ],
   "source": [
    "# TextBlob polarity\n",
    "from textblob import TextBlob\n",
    "edu = TextBlob(cleaned_string)\n",
    "x = edu.sentiment.polarity\n",
    "# if x > 0: positive, x = 0: neutral, x < 0: negative\n",
    "print(x)"
   ]
  },
  {
   "cell_type": "code",
   "execution_count": 103,
   "metadata": {},
   "outputs": [],
   "source": [
    "#!python -m pip install stop_words"
   ]
  },
  {
   "cell_type": "code",
   "execution_count": 104,
   "metadata": {},
   "outputs": [],
   "source": [
    "# TODO\n",
    "# sentiment analysis of text twitter data\n",
    "import re\n",
    " \n",
    "# http://www.geeksforgeeks.org/twitter-sentiment-analysis-using-python/\n",
    "def clean_tweet( tweet):\n",
    "        '''\n",
    "        Utility function to clean tweet text by removing links, special characters\n",
    "        using simple regex statements.\n",
    "        '''\n",
    "        tweet = tweet.lower() \n",
    "        return ' '.join(re.sub(\"(@[A-Za-z0-9]+)|([^0-9A-Za-z \\t])|(\\w+:\\/\\/\\S+)\", \" \", tweet).split())\n",
    "     \n",
    "# https://stackoverflow.com/questions/5486337/how-to-remove-stop-words-using-nltk-or-python   \n",
    "from stop_words import get_stop_words\n",
    "from nltk.corpus import stopwords\n",
    "from nltk.tokenize import word_tokenize\n",
    "from itertools import chain\n",
    " \n",
    "from nltk.classify import NaiveBayesClassifier, accuracy\n",
    "stop_words = list(get_stop_words('en'))         \n",
    "nltk_words = list(stopwords.words('english'))   \n",
    "stop_words.extend(nltk_words)\n",
    " \n",
    "def remove_stopwords(word_list):\n",
    "  \n",
    "        filtered_tweet=\"\"\n",
    "        for word in word_list:\n",
    "            word = word.lower() # in case they arenet all lower cased\n",
    "            if word not in stopwords.words(\"english\"):\n",
    "                filtered_tweet=filtered_tweet + \" \" + word\n",
    "         \n",
    "         \n",
    "        return filtered_tweet.lstrip()\n",
    "     \n",
    "\n",
    "# filefolder=\"C:\\\\Users\\\\Downloads\"\n",
    "# filename=filefolder + \"\\\\text_emotion.csv\"\n",
    "    \n",
    "polarity = {'empty' : 'N',\n",
    "                'sadness' : 'N',\n",
    "                'enthusiasm' : 'P',\n",
    "                'neutral' : 'neutral',\n",
    "                'worry' : 'N',\n",
    "                'surprise' : 'P',\n",
    "                'love' : 'P',\n",
    "                'fun' : 'P',\n",
    "                'hate' : 'N',\n",
    "                'happiness' : 'P',\n",
    "                'boredom' : 'N',\n",
    "                'relief' : 'P',\n",
    "                'anger' : 'N'\n",
    "         }  \n",
    "\n"
   ]
  },
  {
   "cell_type": "code",
   "execution_count": null,
   "metadata": {},
   "outputs": [],
   "source": []
  }
 ],
 "metadata": {
  "kernelspec": {
   "display_name": "Python 3",
   "language": "python",
   "name": "python3"
  },
  "language_info": {
   "codemirror_mode": {
    "name": "ipython",
    "version": 3
   },
   "file_extension": ".py",
   "mimetype": "text/x-python",
   "name": "python",
   "nbconvert_exporter": "python",
   "pygments_lexer": "ipython3",
   "version": "3.7.6"
  }
 },
 "nbformat": 4,
 "nbformat_minor": 4
}
