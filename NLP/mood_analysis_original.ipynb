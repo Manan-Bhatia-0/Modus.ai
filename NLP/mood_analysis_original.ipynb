{
 "cells": [
  {
   "cell_type": "code",
   "execution_count": 15,
   "id": "62e9468a",
   "metadata": {},
   "outputs": [
    {
     "name": "stderr",
     "output_type": "stream",
     "text": [
      "[nltk_data] Downloading package vader_lexicon to\n",
      "[nltk_data]     /Users/rashmiananth/nltk_data...\n",
      "[nltk_data]   Package vader_lexicon is already up-to-date!\n"
     ]
    },
    {
     "data": {
      "text/plain": [
       "True"
      ]
     },
     "execution_count": 15,
     "metadata": {},
     "output_type": "execute_result"
    }
   ],
   "source": [
    "import text2emotion as te\n",
    "import nltk\n",
    "import pandas as pd\n",
    "from nltk.tokenize import sent_tokenize\n",
    "import string\n",
    "from textblob import TextBlob\n",
    "from nltk.sentiment import SentimentIntensityAnalyzer\n",
    "nltk.download('vader_lexicon')"
   ]
  },
  {
   "cell_type": "code",
   "execution_count": 16,
   "id": "0737ebd1",
   "metadata": {},
   "outputs": [],
   "source": [
    "class MoodAnalysis:\n",
    "    \n",
    "    @staticmethod\n",
    "    def t2e_entry_analysis(text):\n",
    "        mood = te.get_emotion(text)\n",
    "        return mood\n",
    "    \n",
    "    @staticmethod\n",
    "    def t2e_sent_analysis(text):\n",
    "        sent_tokenized = {}\n",
    "        sent_tokenized = nltk.tokenize.sent_tokenize(text)\n",
    "        mood_list = []\n",
    "        for sentence in sent_tokenized:\n",
    "            mood = te.get_emotion(sentence)\n",
    "            mood_list.append(mood)\n",
    "        return mood_list\n",
    "    \n",
    "    @staticmethod\n",
    "    def polarity_entry_analysis(text):\n",
    "        sia = SentimentIntensityAnalyzer()\n",
    "        mood = sia.polarity_scores(text)\n",
    "        mood['cummulative'] = TextBlob(text).sentiment.polarity\n",
    "        return mood\n",
    "    \n",
    "    @staticmethod\n",
    "    def polarity_sent_analysis(text):\n",
    "        sia = SentimentIntensityAnalyzer()\n",
    "        sent_tokenized = {}\n",
    "        sent_tokenized = nltk.tokenize.sent_tokenize(text)\n",
    "        mood_list = []\n",
    "        for sentence in sent_tokenized:\n",
    "            mood = sia.polarity_scores(sentence)\n",
    "            mood['cummulative'] = TextBlob(sentence).sentiment.polarity\n",
    "            mood_list.append(mood)\n",
    "        return mood_list"
   ]
  },
  {
   "cell_type": "code",
   "execution_count": null,
   "id": "e7d13dfc",
   "metadata": {},
   "outputs": [],
   "source": []
  }
 ],
 "metadata": {
  "kernelspec": {
   "display_name": "Python 3",
   "language": "python",
   "name": "python3"
  },
  "language_info": {
   "codemirror_mode": {
    "name": "ipython",
    "version": 3
   },
   "file_extension": ".py",
   "mimetype": "text/x-python",
   "name": "python",
   "nbconvert_exporter": "python",
   "pygments_lexer": "ipython3",
   "version": "3.8.8"
  }
 },
 "nbformat": 4,
 "nbformat_minor": 5
}
